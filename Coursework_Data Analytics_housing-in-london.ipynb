{
 "cells": [
  {
   "cell_type": "code",
   "execution_count": 1,
   "id": "9fa70807-a14b-426a-984b-03653172f691",
   "metadata": {},
   "outputs": [
    {
     "name": "stdout",
     "output_type": "stream",
     "text": [
      "         date            area  average_price       code  houses_sold  \\\n",
      "0  1995-01-01  city of london          91449  E09000001         17.0   \n",
      "1  1995-02-01  city of london          82203  E09000001          7.0   \n",
      "2  1995-03-01  city of london          79121  E09000001         14.0   \n",
      "3  1995-04-01  city of london          77101  E09000001          7.0   \n",
      "4  1995-05-01  city of london          84409  E09000001         10.0   \n",
      "\n",
      "   no_of_crimes  borough_flag  \n",
      "0           NaN             1  \n",
      "1           NaN             1  \n",
      "2           NaN             1  \n",
      "3           NaN             1  \n",
      "4           NaN             1  \n",
      "        code                  area        date  median_salary  \\\n",
      "0  E09000001        city of london  1999-12-01        33020.0   \n",
      "1  E09000002  barking and dagenham  1999-12-01        21480.0   \n",
      "2  E09000003                barnet  1999-12-01        19568.0   \n",
      "3  E09000004                bexley  1999-12-01        18621.0   \n",
      "4  E09000005                 brent  1999-12-01        18532.0   \n",
      "\n",
      "   life_satisfaction mean_salary recycling_pct  population_size  \\\n",
      "0                NaN       48922             0           6581.0   \n",
      "1                NaN       23620             3         162444.0   \n",
      "2                NaN       23128             8         313469.0   \n",
      "3                NaN       21386            18         217458.0   \n",
      "4                NaN       20911             6         260317.0   \n",
      "\n",
      "   number_of_jobs  area_size  no_of_houses  borough_flag  \n",
      "0             NaN        NaN           NaN             1  \n",
      "1             NaN        NaN           NaN             1  \n",
      "2             NaN        NaN           NaN             1  \n",
      "3             NaN        NaN           NaN             1  \n",
      "4             NaN        NaN           NaN             1  \n"
     ]
    }
   ],
   "source": [
    "# read the csv files to Pandas dataframe \n",
    "import pandas as pd \n",
    "\n",
    "df_monthly = pd.read_csv('housing_in_london_monthly_variables.csv')\n",
    "df_yearly = pd.read_csv('housing_in_london_yearly_variables.csv')\n",
    "\n",
    "print(df_monthly.head())\n",
    "print(df_yearly.head())\n"
   ]
  },
  {
   "cell_type": "code",
   "execution_count": 4,
   "id": "a06c1078-42c8-4fcc-bc5a-00acaf19f72c",
   "metadata": {},
   "outputs": [],
   "source": [
    "# Date to Datetime format\n",
    "df_monthly['date'] = pd.to_datetime(df_monthly['date'])\n",
    "df_yearly['date'] = pd.to_datetime(df_yearly['date'])\n",
    "\n",
    "# extract data from 2000 \n",
    "df_montly = df_monthly[df_monthly['date'].dt.year >= 2000]\n",
    "df_yearly = df_yearly[df_yearly['date'].dt.year >= 2000]\n",
    "\n",
    "# year column for merging two files\n",
    "df_monthly['year'] = df_monthly['date'].dt.year\n",
    "df_yearly['year'] = df_yearly['date'].dt.year\n",
    "\n",
    "# merging two files \n",
    "df_merged = df_monthly.merge(df_yearly, on = ['year', 'area'], how = 'left')\n",
    "df_merged.to_csv('merged_housing_data_2000_latest.csv', index = False)\n",
    "\n"
   ]
  },
  {
   "cell_type": "code",
   "execution_count": 7,
   "id": "a4cbb1aa-dd6e-456f-bf3c-b2f8537f921c",
   "metadata": {},
   "outputs": [
    {
     "name": "stdout",
     "output_type": "stream",
     "text": [
      "date_x                  0\n",
      "area                    0\n",
      "average_price           0\n",
      "code_x                  0\n",
      "houses_sold            94\n",
      "no_of_crimes         6110\n",
      "borough_flag_x          0\n",
      "year                    0\n",
      "code_y               3229\n",
      "date_y               3229\n",
      "median_salary        3469\n",
      "life_satisfaction    9709\n",
      "mean_salary          3229\n",
      "recycling_pct        4201\n",
      "population_size      3745\n",
      "number_of_jobs       4201\n",
      "area_size            5557\n",
      "no_of_houses         5557\n",
      "borough_flag_y       3229\n",
      "dtype: int64\n"
     ]
    }
   ],
   "source": [
    "# handling missing values \n",
    "print(df_merged.isnull().sum())"
   ]
  },
  {
   "cell_type": "code",
   "execution_count": 15,
   "id": "cbe33cd6-6b29-4e29-8da8-875d9fbd15ea",
   "metadata": {},
   "outputs": [
    {
     "name": "stdout",
     "output_type": "stream",
     "text": [
      "date_x                0\n",
      "area                  0\n",
      "average_price         0\n",
      "code_x                0\n",
      "houses_sold           0\n",
      "no_of_crimes          0\n",
      "borough_flag_x        0\n",
      "year                  0\n",
      "code_y             3229\n",
      "date_y             3229\n",
      "median_salary         0\n",
      "mean_salary           0\n",
      "recycling_pct         0\n",
      "population_size       0\n",
      "number_of_jobs        0\n",
      "area_size             0\n",
      "no_of_houses          0\n",
      "borough_flag_y        0\n",
      "dtype: int64\n"
     ]
    }
   ],
   "source": [
    "# check numeric columns \n",
    "num_cols = df_merged.select_dtypes(include=['number','float64','int64']).columns\n",
    "\n",
    "# filling the missing values with the median of their respective columns \n",
    "df_merged[num_cols] = df_merged[num_cols].apply(lambda x: x.fillna(x.median()), axis=0)\n",
    "\n",
    "# dropping this column due to too many missing values\n",
    "if 'life_satisfaction' in df_merged.columns:\n",
    "    df_merged.drop(columns = ['life_satisfaction'], inplace = True)\n",
    "\n",
    "# convert: string values to integer values \n",
    "df_merged['mean_salary'] = pd.to_numeric(df_merged['mean_salary'], errors = 'coerce')\n",
    "df_merged['recycling_pct'] = pd.to_numeric(df_merged['recycling_pct'], errors = 'coerce')\n",
    "\n",
    "print(df_merged.isnull().sum())\n"
   ]
  },
  {
   "cell_type": "code",
   "execution_count": null,
   "id": "4b5f73cf-12ea-4c82-b95a-f878183fd4ec",
   "metadata": {},
   "outputs": [],
   "source": [
    "# drop unnecessary columns\n",
    "df_merged.drop(columns = ['code','borough_flag','date_x','code_x', 'borough_flag_x','code_y','date_y','borough_flag_y'], inplace = True)\n"
   ]
  },
  {
   "cell_type": "code",
   "execution_count": 26,
   "id": "f85c4dd6-fe45-40e1-b940-68b40f52f231",
   "metadata": {},
   "outputs": [
    {
     "name": "stdout",
     "output_type": "stream",
     "text": [
      "Index(['area', 'average_price', 'houses_sold', 'no_of_crimes', 'year',\n",
      "       'median_salary', 'mean_salary', 'recycling_pct', 'population_size',\n",
      "       'number_of_jobs', 'area_size', 'no_of_houses'],\n",
      "      dtype='object')\n"
     ]
    }
   ],
   "source": [
    "print(df_merged.columns)"
   ]
  },
  {
   "cell_type": "code",
   "execution_count": 27,
   "id": "46817444-5a78-463c-8d4a-cb27f0ba4980",
   "metadata": {},
   "outputs": [
    {
     "name": "stdout",
     "output_type": "stream",
     "text": [
      "             area  average_price  houses_sold  no_of_crimes  year  \\\n",
      "0  city of london          91449         17.0        2132.0  1995   \n",
      "1  city of london          82203          7.0        2132.0  1995   \n",
      "2  city of london          79121         14.0        2132.0  1995   \n",
      "3  city of london          77101          7.0        2132.0  1995   \n",
      "4  city of london          84409         10.0        2132.0  1995   \n",
      "\n",
      "   median_salary  mean_salary  recycling_pct  population_size  number_of_jobs  \\\n",
      "0        28596.5      33248.0           28.0         270418.0        137000.0   \n",
      "1        28596.5      33248.0           28.0         270418.0        137000.0   \n",
      "2        28596.5      33248.0           28.0         270418.0        137000.0   \n",
      "3        28596.5      33248.0           28.0         270418.0        137000.0   \n",
      "4        28596.5      33248.0           28.0         270418.0        137000.0   \n",
      "\n",
      "   area_size  no_of_houses  \n",
      "0     4323.0      102402.0  \n",
      "1     4323.0      102402.0  \n",
      "2     4323.0      102402.0  \n",
      "3     4323.0      102402.0  \n",
      "4     4323.0      102402.0  \n"
     ]
    }
   ],
   "source": [
    "print(df_merged.head())"
   ]
  },
  {
   "cell_type": "code",
   "execution_count": 28,
   "id": "743fe602-3469-4827-bd87-4037fad8ed71",
   "metadata": {},
   "outputs": [],
   "source": [
    "df_merged.to_csv('cleaned_housing_data_2000_latest.csv', index = False)"
   ]
  },
  {
   "cell_type": "code",
   "execution_count": null,
   "id": "98c0e79c-95c5-4a6b-b1ae-8e4c7b43b512",
   "metadata": {},
   "outputs": [],
   "source": []
  }
 ],
 "metadata": {
  "kernelspec": {
   "display_name": "Python 3.10.12",
   "language": "python",
   "name": "python3.10.12"
  },
  "language_info": {
   "codemirror_mode": {
    "name": "ipython",
    "version": 3
   },
   "file_extension": ".py",
   "mimetype": "text/x-python",
   "name": "python",
   "nbconvert_exporter": "python",
   "pygments_lexer": "ipython3",
   "version": "3.10.12"
  }
 },
 "nbformat": 4,
 "nbformat_minor": 5
}
